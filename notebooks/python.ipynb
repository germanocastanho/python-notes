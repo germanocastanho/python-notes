{
 "cells": [
  {
   "cell_type": "markdown",
   "id": "37d636d8",
   "metadata": {},
   "source": [
    "# **Python**\n"
   ]
  },
  {
   "cell_type": "markdown",
   "id": "5f23851a",
   "metadata": {},
   "source": [
    "### **1. Hello World**\n"
   ]
  },
  {
   "cell_type": "code",
   "execution_count": 1,
   "id": "47db7792",
   "metadata": {},
   "outputs": [
    {
     "name": "stdout",
     "output_type": "stream",
     "text": [
      "Hello World!\n"
     ]
    }
   ],
   "source": [
    "print(\"Hello World!\")"
   ]
  },
  {
   "cell_type": "markdown",
   "id": "0181a5d3",
   "metadata": {},
   "source": [
    "### **2. Data Types**\n"
   ]
  },
  {
   "cell_type": "code",
   "execution_count": 3,
   "id": "a66143b3",
   "metadata": {},
   "outputs": [],
   "source": [
    "int_ = 10\n",
    "float_ = 3.14\n",
    "str_ = \"text\"\n",
    "bool_ = True\n",
    "list_ = [1, 2, 3]\n",
    "tuple_ = (1, 2, 3)\n",
    "dict_ = {\"key\": \"value\"}\n",
    "set_ = {1, 2, 3}\n"
   ]
  },
  {
   "cell_type": "code",
   "execution_count": 6,
   "id": "fa399f1c",
   "metadata": {},
   "outputs": [
    {
     "name": "stdout",
     "output_type": "stream",
     "text": [
      "Int number: 10\n",
      "Float number: 3.14\n",
      "Text data: text\n",
      "Bool data: True\n",
      "List data: [1, 2, 3]\n",
      "Tuple data: (1, 2, 3)\n",
      "Dict data: {'key': 'value'}\n",
      "Set data: {1, 2, 3}\n"
     ]
    }
   ],
   "source": [
    "print(f\"Int number: {int_}\")\n",
    "print(f\"Float number: {float_}\")\n",
    "print(f\"Text data: {str_}\")\n",
    "print(f\"Bool data: {bool_}\")\n",
    "print(f\"List data: {list_}\")\n",
    "print(f\"Tuple data: {tuple_}\")\n",
    "print(f\"Dict data: {dict_}\")\n",
    "print(f\"Set data: {set_}\")"
   ]
  },
  {
   "cell_type": "markdown",
   "id": "b3c9b4f6",
   "metadata": {},
   "source": [
    "### **2.1. Numbers**\n"
   ]
  },
  {
   "cell_type": "code",
   "execution_count": null,
   "id": "7b6be29d",
   "metadata": {},
   "outputs": [],
   "source": [
    "int = 10\n",
    "float = 3.14\n"
   ]
  },
  {
   "cell_type": "markdown",
   "id": "cefd939a",
   "metadata": {},
   "source": [
    "### **2.2. Strings**\n"
   ]
  },
  {
   "cell_type": "code",
   "execution_count": null,
   "id": "21a5437f",
   "metadata": {},
   "outputs": [],
   "source": [
    "str = \"Hello, World!\"\n"
   ]
  },
  {
   "cell_type": "markdown",
   "id": "cbc4b59a",
   "metadata": {},
   "source": [
    "### **2.3. Booleans**\n"
   ]
  },
  {
   "cell_type": "code",
   "execution_count": null,
   "id": "8fcc5af9",
   "metadata": {},
   "outputs": [],
   "source": [
    "true = True\n",
    "false = False\n"
   ]
  },
  {
   "cell_type": "markdown",
   "id": "69b8dbdc",
   "metadata": {},
   "source": [
    "### **2.4. Lists/Tuples**\n"
   ]
  },
  {
   "cell_type": "code",
   "execution_count": null,
   "id": "fae3761d",
   "metadata": {},
   "outputs": [],
   "source": [
    "list = [1, 2, 3, 4, 5]\n",
    "tuple = (1, 2, 3, 4, 5)\n"
   ]
  },
  {
   "cell_type": "markdown",
   "id": "3268b809",
   "metadata": {},
   "source": [
    "### **2.5. Dictionaries**\n"
   ]
  },
  {
   "cell_type": "code",
   "execution_count": null,
   "id": "41b5660e",
   "metadata": {},
   "outputs": [],
   "source": [
    "dict = {\n",
    "    \"name\": \"John\",\n",
    "    \"age\": 30,\n",
    "    \"city\": \"New York\",\n",
    "}\n"
   ]
  },
  {
   "cell_type": "markdown",
   "id": "bdd65644",
   "metadata": {},
   "source": [
    "### **3. Flow Control**\n"
   ]
  },
  {
   "cell_type": "code",
   "execution_count": null,
   "id": "9a4e05b9",
   "metadata": {},
   "outputs": [],
   "source": [
    "age = 21\n",
    "\n",
    "if age >= 18:\n",
    "    print(\"You are an adult!\")\n",
    "else:\n",
    "    print(\"You are a minor!\")\n"
   ]
  },
  {
   "cell_type": "markdown",
   "id": "58026694",
   "metadata": {},
   "source": [
    "### **4. Loop Structures**\n"
   ]
  },
  {
   "cell_type": "markdown",
   "id": "2d6b63d8",
   "metadata": {},
   "source": [
    "##### **4.1. \"For\" Loop**\n"
   ]
  },
  {
   "cell_type": "code",
   "execution_count": null,
   "id": "529a9e38",
   "metadata": {},
   "outputs": [],
   "source": [
    "for i in range(10):\n",
    "    print(i)\n"
   ]
  },
  {
   "cell_type": "markdown",
   "id": "c528dd37",
   "metadata": {},
   "source": [
    "##### **4.2. \"While\" Loop**\n"
   ]
  },
  {
   "cell_type": "code",
   "execution_count": null,
   "id": "fb0e4dbf",
   "metadata": {},
   "outputs": [],
   "source": [
    "condition = 0\n",
    "while True:\n",
    "    if condition == 5:\n",
    "        break\n",
    "\n",
    "    condition += 1\n",
    "    print(condition)\n"
   ]
  },
  {
   "cell_type": "markdown",
   "id": "ca25ea83",
   "metadata": {},
   "source": [
    "### **5. Functions**\n"
   ]
  },
  {
   "cell_type": "markdown",
   "id": "caa566dd",
   "metadata": {},
   "source": [
    "##### **5.1. [Build-in Functions](https://docs.python.org/3/library/functions.html)**\n"
   ]
  },
  {
   "cell_type": "markdown",
   "id": "a0e1ec25",
   "metadata": {},
   "source": [
    "##### **5.2. Defined Functions**\n"
   ]
  },
  {
   "cell_type": "code",
   "execution_count": null,
   "id": "85104d2e",
   "metadata": {},
   "outputs": [],
   "source": [
    "def greet(name):\n",
    "    return f\"Hello, {name}!\"\n",
    "\n",
    "\n",
    "print(greet(\"John\"))\n"
   ]
  },
  {
   "cell_type": "code",
   "execution_count": null,
   "id": "228cd2eb",
   "metadata": {},
   "outputs": [],
   "source": []
  }
 ],
 "metadata": {
  "kernelspec": {
   "display_name": ".venv",
   "language": "python",
   "name": "python3"
  },
  "language_info": {
   "codemirror_mode": {
    "name": "ipython",
    "version": 3
   },
   "file_extension": ".py",
   "mimetype": "text/x-python",
   "name": "python",
   "nbconvert_exporter": "python",
   "pygments_lexer": "ipython3",
   "version": "3.13.7"
  }
 },
 "nbformat": 4,
 "nbformat_minor": 5
}
