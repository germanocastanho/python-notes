{
 "cells": [
  {
   "cell_type": "markdown",
   "id": "37d636d8",
   "metadata": {},
   "source": [
    "# **Python**\n"
   ]
  },
  {
   "cell_type": "markdown",
   "id": "0181a5d3",
   "metadata": {},
   "source": [
    "### **Data Types**\n"
   ]
  },
  {
   "cell_type": "code",
   "execution_count": null,
   "id": "a66143b3",
   "metadata": {},
   "outputs": [],
   "source": [
    "int = 10\n",
    "float = 3.14\n",
    "str = \"text\"\n",
    "bool = True\n",
    "list = [1, 2, 3]\n",
    "tuple = (1, 2, 3)\n",
    "dict = {\"key\": \"value\"}\n",
    "set = {1, 2, 3}\n"
   ]
  },
  {
   "cell_type": "markdown",
   "id": "d4dc7249",
   "metadata": {},
   "source": [
    "### **Variables**\n"
   ]
  },
  {
   "cell_type": "code",
   "execution_count": null,
   "id": "0e25485b",
   "metadata": {},
   "outputs": [],
   "source": [
    "variable = 10\n",
    "CONSTANT = 15\n"
   ]
  },
  {
   "cell_type": "markdown",
   "id": "b3c9b4f6",
   "metadata": {},
   "source": [
    "### **Numbers**\n"
   ]
  },
  {
   "cell_type": "code",
   "execution_count": null,
   "id": "7b6be29d",
   "metadata": {},
   "outputs": [],
   "source": [
    "int = 10\n",
    "float = 3.14\n"
   ]
  },
  {
   "cell_type": "markdown",
   "id": "cefd939a",
   "metadata": {},
   "source": [
    "### **Strings**\n"
   ]
  },
  {
   "cell_type": "code",
   "execution_count": null,
   "id": "21a5437f",
   "metadata": {},
   "outputs": [],
   "source": [
    "str = \"Hello, World!\"\n"
   ]
  },
  {
   "cell_type": "markdown",
   "id": "cbc4b59a",
   "metadata": {},
   "source": [
    "### **Booleans**\n"
   ]
  },
  {
   "cell_type": "code",
   "execution_count": null,
   "id": "8fcc5af9",
   "metadata": {},
   "outputs": [],
   "source": [
    "true = True\n",
    "false = False\n"
   ]
  },
  {
   "cell_type": "markdown",
   "id": "69b8dbdc",
   "metadata": {},
   "source": [
    "### **Lists/Tuples**\n"
   ]
  },
  {
   "cell_type": "code",
   "execution_count": null,
   "id": "fae3761d",
   "metadata": {},
   "outputs": [],
   "source": [
    "list = [1, 2, 3, 4, 5]\n",
    "tuple = (1, 2, 3, 4, 5)\n"
   ]
  },
  {
   "cell_type": "markdown",
   "id": "3268b809",
   "metadata": {},
   "source": [
    "### **Dictionaries**"
   ]
  },
  {
   "cell_type": "code",
   "execution_count": null,
   "id": "41b5660e",
   "metadata": {},
   "outputs": [],
   "source": [
    "dict = {\n",
    "    \"name\": \"John\",\n",
    "    \"age\": 30,\n",
    "    \"city\": \"New York\",\n",
    "}\n"
   ]
  },
  {
   "cell_type": "markdown",
   "id": "bdd65644",
   "metadata": {},
   "source": [
    "### **Flow Control**\n"
   ]
  },
  {
   "cell_type": "code",
   "execution_count": null,
   "id": "9a4e05b9",
   "metadata": {},
   "outputs": [],
   "source": [
    "age = 21\n",
    "\n",
    "if age >= 18:\n",
    "    print(\"You are an adult!\")\n",
    "else:\n",
    "    print(\"You are a minor!\")\n"
   ]
  },
  {
   "cell_type": "markdown",
   "id": "58026694",
   "metadata": {},
   "source": [
    "### **Loop Structures**\n"
   ]
  },
  {
   "cell_type": "markdown",
   "id": "2d6b63d8",
   "metadata": {},
   "source": [
    "##### \"For\" Loop\n"
   ]
  },
  {
   "cell_type": "code",
   "execution_count": null,
   "id": "529a9e38",
   "metadata": {},
   "outputs": [],
   "source": [
    "for i in range(10):\n",
    "    print(i)\n"
   ]
  },
  {
   "cell_type": "markdown",
   "id": "c528dd37",
   "metadata": {},
   "source": [
    "##### \"While\" Loop\n"
   ]
  },
  {
   "cell_type": "code",
   "execution_count": null,
   "id": "fb0e4dbf",
   "metadata": {},
   "outputs": [],
   "source": [
    "condition = 0\n",
    "while True:\n",
    "    if condition == 5:\n",
    "        break\n",
    "\n",
    "    condition += 1\n",
    "    print(condition)\n"
   ]
  },
  {
   "cell_type": "markdown",
   "id": "ca25ea83",
   "metadata": {},
   "source": [
    "### **Functions**"
   ]
  },
  {
   "cell_type": "markdown",
   "id": "caa566dd",
   "metadata": {},
   "source": [
    "##### [Build-in Functions](https://docs.python.org/3/library/functions.html)"
   ]
  },
  {
   "cell_type": "markdown",
   "id": "a0e1ec25",
   "metadata": {},
   "source": [
    "##### Defined Functions"
   ]
  },
  {
   "cell_type": "code",
   "execution_count": null,
   "id": "85104d2e",
   "metadata": {},
   "outputs": [],
   "source": [
    "def greet(name):\n",
    "    return f\"Hello, {name}!\"\n",
    "\n",
    "\n",
    "print(greet(\"John\"))\n"
   ]
  },
  {
   "cell_type": "code",
   "execution_count": null,
   "id": "228cd2eb",
   "metadata": {},
   "outputs": [],
   "source": []
  }
 ],
 "metadata": {
  "kernelspec": {
   "display_name": ".venv",
   "language": "python",
   "name": "python3"
  },
  "language_info": {
   "codemirror_mode": {
    "name": "ipython",
    "version": 3
   },
   "file_extension": ".py",
   "mimetype": "text/x-python",
   "name": "python",
   "nbconvert_exporter": "python",
   "pygments_lexer": "ipython3",
   "version": "3.13.5"
  }
 },
 "nbformat": 4,
 "nbformat_minor": 5
}
