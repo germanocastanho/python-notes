{
 "cells": [
  {
   "cell_type": "markdown",
   "id": "aaf14eed",
   "metadata": {},
   "source": [
    "# **Numpy**"
   ]
  },
  {
   "cell_type": "code",
   "execution_count": 1,
   "id": "b5c45137",
   "metadata": {},
   "outputs": [],
   "source": [
    "import numpy as np"
   ]
  },
  {
   "cell_type": "markdown",
   "id": "94e8d9e4",
   "metadata": {},
   "source": [
    "### **Unidimensional Array**"
   ]
  },
  {
   "cell_type": "code",
   "execution_count": 21,
   "id": "97058a8d",
   "metadata": {},
   "outputs": [
    {
     "name": "stdout",
     "output_type": "stream",
     "text": [
      "[1 2 3 4 5]\n"
     ]
    }
   ],
   "source": [
    "array = np.array([1, 2, 3, 4, 5])\n",
    "\n",
    "print(array)"
   ]
  },
  {
   "cell_type": "markdown",
   "id": "1d70b7ab",
   "metadata": {},
   "source": [
    "### **Bidimensional Array**"
   ]
  },
  {
   "cell_type": "code",
   "execution_count": 19,
   "id": "233d38fa",
   "metadata": {},
   "outputs": [
    {
     "name": "stdout",
     "output_type": "stream",
     "text": [
      "[[1 2 3 4 5]\n",
      " [5 4 3 2 1]]\n"
     ]
    }
   ],
   "source": [
    "array_2d = np.array([[1, 2, 3, 4, 5], [5, 4, 3, 2, 1]])\n",
    "\n",
    "print(array_2d)"
   ]
  },
  {
   "cell_type": "markdown",
   "id": "06b02ab4",
   "metadata": {},
   "source": [
    "### **Random Numbers**"
   ]
  },
  {
   "cell_type": "code",
   "execution_count": 20,
   "id": "9731e345",
   "metadata": {},
   "outputs": [
    {
     "name": "stdout",
     "output_type": "stream",
     "text": [
      "[[0.84807683 0.78695863 0.633453  ]\n",
      " [0.70985086 0.27943798 0.37838833]\n",
      " [0.89042577 0.69179038 0.55715998]]\n"
     ]
    }
   ],
   "source": [
    "rdn = np.random.random((3, 3))\n",
    "\n",
    "print(rdn)"
   ]
  },
  {
   "cell_type": "code",
   "execution_count": null,
   "id": "5e5a56ac",
   "metadata": {},
   "outputs": [],
   "source": []
  }
 ],
 "metadata": {
  "kernelspec": {
   "display_name": ".venv",
   "language": "python",
   "name": "python3"
  },
  "language_info": {
   "codemirror_mode": {
    "name": "ipython",
    "version": 3
   },
   "file_extension": ".py",
   "mimetype": "text/x-python",
   "name": "python",
   "nbconvert_exporter": "python",
   "pygments_lexer": "ipython3",
   "version": "3.13.5"
  }
 },
 "nbformat": 4,
 "nbformat_minor": 5
}
