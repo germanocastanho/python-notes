{
 "cells": [
  {
   "cell_type": "markdown",
   "id": "f38767c3",
   "metadata": {},
   "source": [
    "# **Pandas**\n"
   ]
  },
  {
   "cell_type": "code",
   "execution_count": 11,
   "id": "0b8f0259",
   "metadata": {},
   "outputs": [],
   "source": [
    "import pandas as pd\n",
    "import numpy as np"
   ]
  },
  {
   "cell_type": "code",
   "execution_count": 12,
   "id": "f2ab4585",
   "metadata": {},
   "outputs": [],
   "source": [
    "df = pd.read_csv(\"../data/data.csv\", index_col=False)"
   ]
  },
  {
   "cell_type": "markdown",
   "id": "bcd8e907",
   "metadata": {},
   "source": [
    "### **Series**\n"
   ]
  },
  {
   "cell_type": "code",
   "execution_count": 13,
   "id": "412b30bd",
   "metadata": {},
   "outputs": [],
   "source": [
    "list_ = [\"apple\", \"banana\", \"cherry\"]\n",
    "dict_ = {\"Alice\": 25, \"Bob\": 30, \"Charlie\": 35}\n",
    "arr_ = np.array([10, 20, 30, 40, 50])\n"
   ]
  },
  {
   "cell_type": "code",
   "execution_count": 14,
   "id": "5418cb40",
   "metadata": {},
   "outputs": [
    {
     "data": {
      "application/vnd.microsoft.datawrangler.viewer.v0+json": {
       "columns": [
        {
         "name": "index",
         "rawType": "int64",
         "type": "integer"
        },
        {
         "name": "0",
         "rawType": "object",
         "type": "string"
        }
       ],
       "ref": "272ca74b-38df-4e1c-bd4b-29ed3b967fc6",
       "rows": [
        [
         "0",
         "apple"
        ],
        [
         "1",
         "banana"
        ],
        [
         "2",
         "cherry"
        ]
       ],
       "shape": {
        "columns": 1,
        "rows": 3
       }
      },
      "text/plain": [
       "0     apple\n",
       "1    banana\n",
       "2    cherry\n",
       "dtype: object"
      ]
     },
     "execution_count": 14,
     "metadata": {},
     "output_type": "execute_result"
    }
   ],
   "source": [
    "pd.Series(list_)"
   ]
  },
  {
   "cell_type": "code",
   "execution_count": 15,
   "id": "59e79c5b",
   "metadata": {},
   "outputs": [
    {
     "data": {
      "application/vnd.microsoft.datawrangler.viewer.v0+json": {
       "columns": [
        {
         "name": "index",
         "rawType": "object",
         "type": "string"
        },
        {
         "name": "0",
         "rawType": "int64",
         "type": "integer"
        }
       ],
       "ref": "e8980920-7c65-4a98-bfde-dfe3b1d48cad",
       "rows": [
        [
         "Alice",
         "25"
        ],
        [
         "Bob",
         "30"
        ],
        [
         "Charlie",
         "35"
        ]
       ],
       "shape": {
        "columns": 1,
        "rows": 3
       }
      },
      "text/plain": [
       "Alice      25\n",
       "Bob        30\n",
       "Charlie    35\n",
       "dtype: int64"
      ]
     },
     "execution_count": 15,
     "metadata": {},
     "output_type": "execute_result"
    }
   ],
   "source": [
    "pd.Series(dict_)"
   ]
  },
  {
   "cell_type": "code",
   "execution_count": 16,
   "id": "23827e43",
   "metadata": {},
   "outputs": [
    {
     "data": {
      "application/vnd.microsoft.datawrangler.viewer.v0+json": {
       "columns": [
        {
         "name": "index",
         "rawType": "int64",
         "type": "integer"
        },
        {
         "name": "0",
         "rawType": "int64",
         "type": "integer"
        }
       ],
       "ref": "fc27477b-cf35-4b03-a4a7-ba35195378a2",
       "rows": [
        [
         "0",
         "10"
        ],
        [
         "1",
         "20"
        ],
        [
         "2",
         "30"
        ],
        [
         "3",
         "40"
        ],
        [
         "4",
         "50"
        ]
       ],
       "shape": {
        "columns": 1,
        "rows": 5
       }
      },
      "text/plain": [
       "0    10\n",
       "1    20\n",
       "2    30\n",
       "3    40\n",
       "4    50\n",
       "dtype: int64"
      ]
     },
     "execution_count": 16,
     "metadata": {},
     "output_type": "execute_result"
    }
   ],
   "source": [
    "pd.Series(arr_)"
   ]
  },
  {
   "cell_type": "markdown",
   "id": "413464bb",
   "metadata": {},
   "source": [
    "### **DataFrames**\n"
   ]
  },
  {
   "cell_type": "code",
   "execution_count": 17,
   "id": "07384bd9",
   "metadata": {},
   "outputs": [],
   "source": [
    "data = np.random.randn(5, 4)\n",
    "index = [\"A\", \"B\", \"C\", \"D\", \"E\"]\n",
    "columns = [\"W\", \"X\", \"Y\", \"Z\"]\n",
    "\n",
    "df = pd.DataFrame(data, index, columns)"
   ]
  },
  {
   "cell_type": "code",
   "execution_count": 18,
   "id": "b26d17cf",
   "metadata": {},
   "outputs": [
    {
     "data": {
      "application/vnd.microsoft.datawrangler.viewer.v0+json": {
       "columns": [
        {
         "name": "index",
         "rawType": "object",
         "type": "string"
        },
        {
         "name": "W",
         "rawType": "float64",
         "type": "float"
        },
        {
         "name": "X",
         "rawType": "float64",
         "type": "float"
        },
        {
         "name": "Y",
         "rawType": "float64",
         "type": "float"
        },
        {
         "name": "Z",
         "rawType": "float64",
         "type": "float"
        }
       ],
       "ref": "9246e81b-b6ad-4e01-8a44-9cab7e96dab7",
       "rows": [
        [
         "A",
         "0.31785200798546076",
         "-1.190674360816956",
         "-0.4139455288558861",
         "0.6204262300306582"
        ],
        [
         "B",
         "-1.414472736154667",
         "-0.5019753735779913",
         "-0.7838585407309442",
         "0.4996637038939245"
        ],
        [
         "C",
         "2.004588014676621",
         "-0.14642387251225752",
         "-1.68637634849835",
         "1.151619348334747"
        ],
        [
         "D",
         "0.6940592939345005",
         "-0.5099036285655105",
         "-0.7740153756048546",
         "0.5886072915105641"
        ],
        [
         "E",
         "-0.08073111537208043",
         "-0.7060950435821042",
         "-0.025338853794806687",
         "-0.44909731812999687"
        ]
       ],
       "shape": {
        "columns": 4,
        "rows": 5
       }
      },
      "text/html": [
       "<div>\n",
       "<style scoped>\n",
       "    .dataframe tbody tr th:only-of-type {\n",
       "        vertical-align: middle;\n",
       "    }\n",
       "\n",
       "    .dataframe tbody tr th {\n",
       "        vertical-align: top;\n",
       "    }\n",
       "\n",
       "    .dataframe thead th {\n",
       "        text-align: right;\n",
       "    }\n",
       "</style>\n",
       "<table border=\"1\" class=\"dataframe\">\n",
       "  <thead>\n",
       "    <tr style=\"text-align: right;\">\n",
       "      <th></th>\n",
       "      <th>W</th>\n",
       "      <th>X</th>\n",
       "      <th>Y</th>\n",
       "      <th>Z</th>\n",
       "    </tr>\n",
       "  </thead>\n",
       "  <tbody>\n",
       "    <tr>\n",
       "      <th>A</th>\n",
       "      <td>0.317852</td>\n",
       "      <td>-1.190674</td>\n",
       "      <td>-0.413946</td>\n",
       "      <td>0.620426</td>\n",
       "    </tr>\n",
       "    <tr>\n",
       "      <th>B</th>\n",
       "      <td>-1.414473</td>\n",
       "      <td>-0.501975</td>\n",
       "      <td>-0.783859</td>\n",
       "      <td>0.499664</td>\n",
       "    </tr>\n",
       "    <tr>\n",
       "      <th>C</th>\n",
       "      <td>2.004588</td>\n",
       "      <td>-0.146424</td>\n",
       "      <td>-1.686376</td>\n",
       "      <td>1.151619</td>\n",
       "    </tr>\n",
       "    <tr>\n",
       "      <th>D</th>\n",
       "      <td>0.694059</td>\n",
       "      <td>-0.509904</td>\n",
       "      <td>-0.774015</td>\n",
       "      <td>0.588607</td>\n",
       "    </tr>\n",
       "    <tr>\n",
       "      <th>E</th>\n",
       "      <td>-0.080731</td>\n",
       "      <td>-0.706095</td>\n",
       "      <td>-0.025339</td>\n",
       "      <td>-0.449097</td>\n",
       "    </tr>\n",
       "  </tbody>\n",
       "</table>\n",
       "</div>"
      ],
      "text/plain": [
       "          W         X         Y         Z\n",
       "A  0.317852 -1.190674 -0.413946  0.620426\n",
       "B -1.414473 -0.501975 -0.783859  0.499664\n",
       "C  2.004588 -0.146424 -1.686376  1.151619\n",
       "D  0.694059 -0.509904 -0.774015  0.588607\n",
       "E -0.080731 -0.706095 -0.025339 -0.449097"
      ]
     },
     "execution_count": 18,
     "metadata": {},
     "output_type": "execute_result"
    }
   ],
   "source": [
    "df.head()"
   ]
  },
  {
   "cell_type": "code",
   "execution_count": 26,
   "id": "d77a3db4",
   "metadata": {},
   "outputs": [],
   "source": [
    "df[\"Σ\"] = df[\"W\"] + df[\"X\"] + df[\"Y\"] + df[\"Z\"]"
   ]
  },
  {
   "cell_type": "code",
   "execution_count": 27,
   "id": "d27b555c",
   "metadata": {},
   "outputs": [
    {
     "data": {
      "application/vnd.microsoft.datawrangler.viewer.v0+json": {
       "columns": [
        {
         "name": "index",
         "rawType": "object",
         "type": "string"
        },
        {
         "name": "W",
         "rawType": "float64",
         "type": "float"
        },
        {
         "name": "X",
         "rawType": "float64",
         "type": "float"
        },
        {
         "name": "Y",
         "rawType": "float64",
         "type": "float"
        },
        {
         "name": "Z",
         "rawType": "float64",
         "type": "float"
        },
        {
         "name": "Σ",
         "rawType": "float64",
         "type": "float"
        }
       ],
       "ref": "0f255001-fce5-4d65-aa78-8c714f148f8f",
       "rows": [
        [
         "A",
         "0.31785200798546076",
         "-1.190674360816956",
         "-0.4139455288558861",
         "0.6204262300306582",
         "-0.6663416516567233"
        ],
        [
         "B",
         "-1.414472736154667",
         "-0.5019753735779913",
         "-0.7838585407309442",
         "0.4996637038939245",
         "-2.200642946569678"
        ],
        [
         "C",
         "2.004588014676621",
         "-0.14642387251225752",
         "-1.68637634849835",
         "1.151619348334747",
         "1.3234071420007603"
        ],
        [
         "D",
         "0.6940592939345005",
         "-0.5099036285655105",
         "-0.7740153756048546",
         "0.5886072915105641",
         "-0.0012524187253004637"
        ],
        [
         "E",
         "-0.08073111537208043",
         "-0.7060950435821042",
         "-0.025338853794806687",
         "-0.44909731812999687",
         "-1.261262330878988"
        ]
       ],
       "shape": {
        "columns": 5,
        "rows": 5
       }
      },
      "text/html": [
       "<div>\n",
       "<style scoped>\n",
       "    .dataframe tbody tr th:only-of-type {\n",
       "        vertical-align: middle;\n",
       "    }\n",
       "\n",
       "    .dataframe tbody tr th {\n",
       "        vertical-align: top;\n",
       "    }\n",
       "\n",
       "    .dataframe thead th {\n",
       "        text-align: right;\n",
       "    }\n",
       "</style>\n",
       "<table border=\"1\" class=\"dataframe\">\n",
       "  <thead>\n",
       "    <tr style=\"text-align: right;\">\n",
       "      <th></th>\n",
       "      <th>W</th>\n",
       "      <th>X</th>\n",
       "      <th>Y</th>\n",
       "      <th>Z</th>\n",
       "      <th>Σ</th>\n",
       "    </tr>\n",
       "  </thead>\n",
       "  <tbody>\n",
       "    <tr>\n",
       "      <th>A</th>\n",
       "      <td>0.317852</td>\n",
       "      <td>-1.190674</td>\n",
       "      <td>-0.413946</td>\n",
       "      <td>0.620426</td>\n",
       "      <td>-0.666342</td>\n",
       "    </tr>\n",
       "    <tr>\n",
       "      <th>B</th>\n",
       "      <td>-1.414473</td>\n",
       "      <td>-0.501975</td>\n",
       "      <td>-0.783859</td>\n",
       "      <td>0.499664</td>\n",
       "      <td>-2.200643</td>\n",
       "    </tr>\n",
       "    <tr>\n",
       "      <th>C</th>\n",
       "      <td>2.004588</td>\n",
       "      <td>-0.146424</td>\n",
       "      <td>-1.686376</td>\n",
       "      <td>1.151619</td>\n",
       "      <td>1.323407</td>\n",
       "    </tr>\n",
       "    <tr>\n",
       "      <th>D</th>\n",
       "      <td>0.694059</td>\n",
       "      <td>-0.509904</td>\n",
       "      <td>-0.774015</td>\n",
       "      <td>0.588607</td>\n",
       "      <td>-0.001252</td>\n",
       "    </tr>\n",
       "    <tr>\n",
       "      <th>E</th>\n",
       "      <td>-0.080731</td>\n",
       "      <td>-0.706095</td>\n",
       "      <td>-0.025339</td>\n",
       "      <td>-0.449097</td>\n",
       "      <td>-1.261262</td>\n",
       "    </tr>\n",
       "  </tbody>\n",
       "</table>\n",
       "</div>"
      ],
      "text/plain": [
       "          W         X         Y         Z         Σ\n",
       "A  0.317852 -1.190674 -0.413946  0.620426 -0.666342\n",
       "B -1.414473 -0.501975 -0.783859  0.499664 -2.200643\n",
       "C  2.004588 -0.146424 -1.686376  1.151619  1.323407\n",
       "D  0.694059 -0.509904 -0.774015  0.588607 -0.001252\n",
       "E -0.080731 -0.706095 -0.025339 -0.449097 -1.261262"
      ]
     },
     "execution_count": 27,
     "metadata": {},
     "output_type": "execute_result"
    }
   ],
   "source": [
    "df.head()"
   ]
  },
  {
   "cell_type": "markdown",
   "id": "3227f113",
   "metadata": {},
   "source": [
    "##### **Methods**\n"
   ]
  },
  {
   "cell_type": "code",
   "execution_count": 30,
   "id": "8c923ffc",
   "metadata": {},
   "outputs": [],
   "source": [
    "df.drop(\"Σ\", axis=1, inplace=True)"
   ]
  },
  {
   "cell_type": "code",
   "execution_count": 31,
   "id": "2608efb5",
   "metadata": {},
   "outputs": [
    {
     "data": {
      "application/vnd.microsoft.datawrangler.viewer.v0+json": {
       "columns": [
        {
         "name": "index",
         "rawType": "object",
         "type": "string"
        },
        {
         "name": "W",
         "rawType": "float64",
         "type": "float"
        },
        {
         "name": "X",
         "rawType": "float64",
         "type": "float"
        },
        {
         "name": "Y",
         "rawType": "float64",
         "type": "float"
        },
        {
         "name": "Z",
         "rawType": "float64",
         "type": "float"
        }
       ],
       "ref": "e85ff98e-021a-42cc-a2e1-b03a95a48d92",
       "rows": [
        [
         "A",
         "0.31785200798546076",
         "-1.190674360816956",
         "-0.4139455288558861",
         "0.6204262300306582"
        ],
        [
         "B",
         "-1.414472736154667",
         "-0.5019753735779913",
         "-0.7838585407309442",
         "0.4996637038939245"
        ],
        [
         "C",
         "2.004588014676621",
         "-0.14642387251225752",
         "-1.68637634849835",
         "1.151619348334747"
        ],
        [
         "D",
         "0.6940592939345005",
         "-0.5099036285655105",
         "-0.7740153756048546",
         "0.5886072915105641"
        ],
        [
         "E",
         "-0.08073111537208043",
         "-0.7060950435821042",
         "-0.025338853794806687",
         "-0.44909731812999687"
        ]
       ],
       "shape": {
        "columns": 4,
        "rows": 5
       }
      },
      "text/html": [
       "<div>\n",
       "<style scoped>\n",
       "    .dataframe tbody tr th:only-of-type {\n",
       "        vertical-align: middle;\n",
       "    }\n",
       "\n",
       "    .dataframe tbody tr th {\n",
       "        vertical-align: top;\n",
       "    }\n",
       "\n",
       "    .dataframe thead th {\n",
       "        text-align: right;\n",
       "    }\n",
       "</style>\n",
       "<table border=\"1\" class=\"dataframe\">\n",
       "  <thead>\n",
       "    <tr style=\"text-align: right;\">\n",
       "      <th></th>\n",
       "      <th>W</th>\n",
       "      <th>X</th>\n",
       "      <th>Y</th>\n",
       "      <th>Z</th>\n",
       "    </tr>\n",
       "  </thead>\n",
       "  <tbody>\n",
       "    <tr>\n",
       "      <th>A</th>\n",
       "      <td>0.317852</td>\n",
       "      <td>-1.190674</td>\n",
       "      <td>-0.413946</td>\n",
       "      <td>0.620426</td>\n",
       "    </tr>\n",
       "    <tr>\n",
       "      <th>B</th>\n",
       "      <td>-1.414473</td>\n",
       "      <td>-0.501975</td>\n",
       "      <td>-0.783859</td>\n",
       "      <td>0.499664</td>\n",
       "    </tr>\n",
       "    <tr>\n",
       "      <th>C</th>\n",
       "      <td>2.004588</td>\n",
       "      <td>-0.146424</td>\n",
       "      <td>-1.686376</td>\n",
       "      <td>1.151619</td>\n",
       "    </tr>\n",
       "    <tr>\n",
       "      <th>D</th>\n",
       "      <td>0.694059</td>\n",
       "      <td>-0.509904</td>\n",
       "      <td>-0.774015</td>\n",
       "      <td>0.588607</td>\n",
       "    </tr>\n",
       "    <tr>\n",
       "      <th>E</th>\n",
       "      <td>-0.080731</td>\n",
       "      <td>-0.706095</td>\n",
       "      <td>-0.025339</td>\n",
       "      <td>-0.449097</td>\n",
       "    </tr>\n",
       "  </tbody>\n",
       "</table>\n",
       "</div>"
      ],
      "text/plain": [
       "          W         X         Y         Z\n",
       "A  0.317852 -1.190674 -0.413946  0.620426\n",
       "B -1.414473 -0.501975 -0.783859  0.499664\n",
       "C  2.004588 -0.146424 -1.686376  1.151619\n",
       "D  0.694059 -0.509904 -0.774015  0.588607\n",
       "E -0.080731 -0.706095 -0.025339 -0.449097"
      ]
     },
     "execution_count": 31,
     "metadata": {},
     "output_type": "execute_result"
    }
   ],
   "source": [
    "df.head()"
   ]
  },
  {
   "cell_type": "code",
   "execution_count": null,
   "id": "7dc6b50c",
   "metadata": {},
   "outputs": [],
   "source": []
  }
 ],
 "metadata": {
  "kernelspec": {
   "display_name": ".venv",
   "language": "python",
   "name": "python3"
  },
  "language_info": {
   "codemirror_mode": {
    "name": "ipython",
    "version": 3
   },
   "file_extension": ".py",
   "mimetype": "text/x-python",
   "name": "python",
   "nbconvert_exporter": "python",
   "pygments_lexer": "ipython3",
   "version": "3.13.7"
  }
 },
 "nbformat": 4,
 "nbformat_minor": 5
}
