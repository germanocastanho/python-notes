{
 "cells": [
  {
   "cell_type": "markdown",
   "id": "f38767c3",
   "metadata": {},
   "source": [
    "# **Pandas**\n"
   ]
  },
  {
   "cell_type": "code",
   "execution_count": 1,
   "id": "0b8f0259",
   "metadata": {},
   "outputs": [],
   "source": [
    "import pandas as pd\n",
    "import numpy as np"
   ]
  },
  {
   "cell_type": "code",
   "execution_count": 2,
   "id": "f2ab4585",
   "metadata": {},
   "outputs": [],
   "source": [
    "df = pd.read_csv(\"../data/data.csv\", index_col=False)"
   ]
  },
  {
   "cell_type": "markdown",
   "id": "bcd8e907",
   "metadata": {},
   "source": [
    "### **Series**\n"
   ]
  },
  {
   "cell_type": "code",
   "execution_count": 13,
   "id": "412b30bd",
   "metadata": {},
   "outputs": [],
   "source": [
    "list_ = [\"apple\", \"banana\", \"cherry\"]\n",
    "dict_ = {\"Alice\": 25, \"Bob\": 30, \"Charlie\": 35}\n",
    "arr_ = np.array([10, 20, 30, 40, 50])\n"
   ]
  },
  {
   "cell_type": "code",
   "execution_count": 14,
   "id": "5418cb40",
   "metadata": {},
   "outputs": [
    {
     "data": {
      "application/vnd.microsoft.datawrangler.viewer.v0+json": {
       "columns": [
        {
         "name": "index",
         "rawType": "int64",
         "type": "integer"
        },
        {
         "name": "0",
         "rawType": "object",
         "type": "string"
        }
       ],
       "ref": "272ca74b-38df-4e1c-bd4b-29ed3b967fc6",
       "rows": [
        [
         "0",
         "apple"
        ],
        [
         "1",
         "banana"
        ],
        [
         "2",
         "cherry"
        ]
       ],
       "shape": {
        "columns": 1,
        "rows": 3
       }
      },
      "text/plain": [
       "0     apple\n",
       "1    banana\n",
       "2    cherry\n",
       "dtype: object"
      ]
     },
     "execution_count": 14,
     "metadata": {},
     "output_type": "execute_result"
    }
   ],
   "source": [
    "pd.Series(list_)"
   ]
  },
  {
   "cell_type": "code",
   "execution_count": 15,
   "id": "59e79c5b",
   "metadata": {},
   "outputs": [
    {
     "data": {
      "application/vnd.microsoft.datawrangler.viewer.v0+json": {
       "columns": [
        {
         "name": "index",
         "rawType": "object",
         "type": "string"
        },
        {
         "name": "0",
         "rawType": "int64",
         "type": "integer"
        }
       ],
       "ref": "e8980920-7c65-4a98-bfde-dfe3b1d48cad",
       "rows": [
        [
         "Alice",
         "25"
        ],
        [
         "Bob",
         "30"
        ],
        [
         "Charlie",
         "35"
        ]
       ],
       "shape": {
        "columns": 1,
        "rows": 3
       }
      },
      "text/plain": [
       "Alice      25\n",
       "Bob        30\n",
       "Charlie    35\n",
       "dtype: int64"
      ]
     },
     "execution_count": 15,
     "metadata": {},
     "output_type": "execute_result"
    }
   ],
   "source": [
    "pd.Series(dict_)"
   ]
  },
  {
   "cell_type": "code",
   "execution_count": 16,
   "id": "23827e43",
   "metadata": {},
   "outputs": [
    {
     "data": {
      "application/vnd.microsoft.datawrangler.viewer.v0+json": {
       "columns": [
        {
         "name": "index",
         "rawType": "int64",
         "type": "integer"
        },
        {
         "name": "0",
         "rawType": "int64",
         "type": "integer"
        }
       ],
       "ref": "fc27477b-cf35-4b03-a4a7-ba35195378a2",
       "rows": [
        [
         "0",
         "10"
        ],
        [
         "1",
         "20"
        ],
        [
         "2",
         "30"
        ],
        [
         "3",
         "40"
        ],
        [
         "4",
         "50"
        ]
       ],
       "shape": {
        "columns": 1,
        "rows": 5
       }
      },
      "text/plain": [
       "0    10\n",
       "1    20\n",
       "2    30\n",
       "3    40\n",
       "4    50\n",
       "dtype: int64"
      ]
     },
     "execution_count": 16,
     "metadata": {},
     "output_type": "execute_result"
    }
   ],
   "source": [
    "pd.Series(arr_)"
   ]
  },
  {
   "cell_type": "markdown",
   "id": "413464bb",
   "metadata": {},
   "source": [
    "### **DataFrames**\n"
   ]
  },
  {
   "cell_type": "code",
   "execution_count": 3,
   "id": "07384bd9",
   "metadata": {},
   "outputs": [],
   "source": [
    "data = np.random.randn(5, 4)\n",
    "index = [\"A\", \"B\", \"C\", \"D\", \"E\"]\n",
    "columns = [\"W\", \"X\", \"Y\", \"Z\"]\n",
    "\n",
    "df = pd.DataFrame(data, index, columns)"
   ]
  },
  {
   "cell_type": "code",
   "execution_count": 4,
   "id": "b26d17cf",
   "metadata": {},
   "outputs": [
    {
     "data": {
      "application/vnd.microsoft.datawrangler.viewer.v0+json": {
       "columns": [
        {
         "name": "index",
         "rawType": "object",
         "type": "string"
        },
        {
         "name": "W",
         "rawType": "float64",
         "type": "float"
        },
        {
         "name": "X",
         "rawType": "float64",
         "type": "float"
        },
        {
         "name": "Y",
         "rawType": "float64",
         "type": "float"
        },
        {
         "name": "Z",
         "rawType": "float64",
         "type": "float"
        }
       ],
       "ref": "f8e3a2b2-5130-446b-abf1-9310aa4f26ce",
       "rows": [
        [
         "A",
         "-0.8190268826191418",
         "0.42094310248042194",
         "-1.8796895271117506",
         "-0.5190289094022367"
        ],
        [
         "B",
         "1.5527009385419417",
         "-0.864826906161639",
         "0.9306080687048075",
         "-0.4333273332054057"
        ],
        [
         "C",
         "-1.7818786775968634",
         "-0.893744437279706",
         "-0.7276857668385783",
         "-0.05170599353924456"
        ],
        [
         "D",
         "2.199479199137764",
         "0.24842958406807625",
         "-0.5705884804300893",
         "0.6224720506620288"
        ],
        [
         "E",
         "-0.4493196398968446",
         "0.02565626556975781",
         "0.9186865474689981",
         "1.3627142739706177"
        ]
       ],
       "shape": {
        "columns": 4,
        "rows": 5
       }
      },
      "text/html": [
       "<div>\n",
       "<style scoped>\n",
       "    .dataframe tbody tr th:only-of-type {\n",
       "        vertical-align: middle;\n",
       "    }\n",
       "\n",
       "    .dataframe tbody tr th {\n",
       "        vertical-align: top;\n",
       "    }\n",
       "\n",
       "    .dataframe thead th {\n",
       "        text-align: right;\n",
       "    }\n",
       "</style>\n",
       "<table border=\"1\" class=\"dataframe\">\n",
       "  <thead>\n",
       "    <tr style=\"text-align: right;\">\n",
       "      <th></th>\n",
       "      <th>W</th>\n",
       "      <th>X</th>\n",
       "      <th>Y</th>\n",
       "      <th>Z</th>\n",
       "    </tr>\n",
       "  </thead>\n",
       "  <tbody>\n",
       "    <tr>\n",
       "      <th>A</th>\n",
       "      <td>-0.819027</td>\n",
       "      <td>0.420943</td>\n",
       "      <td>-1.879690</td>\n",
       "      <td>-0.519029</td>\n",
       "    </tr>\n",
       "    <tr>\n",
       "      <th>B</th>\n",
       "      <td>1.552701</td>\n",
       "      <td>-0.864827</td>\n",
       "      <td>0.930608</td>\n",
       "      <td>-0.433327</td>\n",
       "    </tr>\n",
       "    <tr>\n",
       "      <th>C</th>\n",
       "      <td>-1.781879</td>\n",
       "      <td>-0.893744</td>\n",
       "      <td>-0.727686</td>\n",
       "      <td>-0.051706</td>\n",
       "    </tr>\n",
       "    <tr>\n",
       "      <th>D</th>\n",
       "      <td>2.199479</td>\n",
       "      <td>0.248430</td>\n",
       "      <td>-0.570588</td>\n",
       "      <td>0.622472</td>\n",
       "    </tr>\n",
       "    <tr>\n",
       "      <th>E</th>\n",
       "      <td>-0.449320</td>\n",
       "      <td>0.025656</td>\n",
       "      <td>0.918687</td>\n",
       "      <td>1.362714</td>\n",
       "    </tr>\n",
       "  </tbody>\n",
       "</table>\n",
       "</div>"
      ],
      "text/plain": [
       "          W         X         Y         Z\n",
       "A -0.819027  0.420943 -1.879690 -0.519029\n",
       "B  1.552701 -0.864827  0.930608 -0.433327\n",
       "C -1.781879 -0.893744 -0.727686 -0.051706\n",
       "D  2.199479  0.248430 -0.570588  0.622472\n",
       "E -0.449320  0.025656  0.918687  1.362714"
      ]
     },
     "execution_count": 4,
     "metadata": {},
     "output_type": "execute_result"
    }
   ],
   "source": [
    "df.head()"
   ]
  },
  {
   "cell_type": "code",
   "execution_count": 5,
   "id": "ff2d191f",
   "metadata": {},
   "outputs": [
    {
     "name": "stdout",
     "output_type": "stream",
     "text": [
      "<class 'pandas.core.frame.DataFrame'>\n",
      "Index: 5 entries, A to E\n",
      "Data columns (total 4 columns):\n",
      " #   Column  Non-Null Count  Dtype  \n",
      "---  ------  --------------  -----  \n",
      " 0   W       5 non-null      float64\n",
      " 1   X       5 non-null      float64\n",
      " 2   Y       5 non-null      float64\n",
      " 3   Z       5 non-null      float64\n",
      "dtypes: float64(4)\n",
      "memory usage: 200.0+ bytes\n"
     ]
    }
   ],
   "source": [
    "df.info()"
   ]
  },
  {
   "cell_type": "code",
   "execution_count": 7,
   "id": "276a0fb0",
   "metadata": {},
   "outputs": [
    {
     "data": {
      "application/vnd.microsoft.datawrangler.viewer.v0+json": {
       "columns": [
        {
         "name": "index",
         "rawType": "object",
         "type": "string"
        },
        {
         "name": "W",
         "rawType": "float64",
         "type": "float"
        },
        {
         "name": "X",
         "rawType": "float64",
         "type": "float"
        },
        {
         "name": "Y",
         "rawType": "float64",
         "type": "float"
        },
        {
         "name": "Z",
         "rawType": "float64",
         "type": "float"
        }
       ],
       "ref": "cc2f2846-c462-4bf6-a918-fd7b33c806e8",
       "rows": [
        [
         "count",
         "5.0",
         "5.0",
         "5.0",
         "5.0"
        ],
        [
         "mean",
         "0.14039098751337115",
         "-0.2127084782646178",
         "-0.26573383164132247",
         "0.19622481769715192"
        ],
        [
         "std",
         "1.6731576136184865",
         "0.6245095697606142",
         "1.1984651133051047",
         "0.792429468029067"
        ],
        [
         "min",
         "-1.7818786775968634",
         "-0.893744437279706",
         "-1.8796895271117506",
         "-0.5190289094022367"
        ],
        [
         "25%",
         "-0.8190268826191418",
         "-0.864826906161639",
         "-0.7276857668385783",
         "-0.4333273332054057"
        ],
        [
         "50%",
         "-0.4493196398968446",
         "0.02565626556975781",
         "-0.5705884804300893",
         "-0.05170599353924456"
        ],
        [
         "75%",
         "1.5527009385419417",
         "0.24842958406807625",
         "0.9186865474689981",
         "0.6224720506620288"
        ],
        [
         "max",
         "2.199479199137764",
         "0.42094310248042194",
         "0.9306080687048075",
         "1.3627142739706177"
        ]
       ],
       "shape": {
        "columns": 4,
        "rows": 8
       }
      },
      "text/html": [
       "<div>\n",
       "<style scoped>\n",
       "    .dataframe tbody tr th:only-of-type {\n",
       "        vertical-align: middle;\n",
       "    }\n",
       "\n",
       "    .dataframe tbody tr th {\n",
       "        vertical-align: top;\n",
       "    }\n",
       "\n",
       "    .dataframe thead th {\n",
       "        text-align: right;\n",
       "    }\n",
       "</style>\n",
       "<table border=\"1\" class=\"dataframe\">\n",
       "  <thead>\n",
       "    <tr style=\"text-align: right;\">\n",
       "      <th></th>\n",
       "      <th>W</th>\n",
       "      <th>X</th>\n",
       "      <th>Y</th>\n",
       "      <th>Z</th>\n",
       "    </tr>\n",
       "  </thead>\n",
       "  <tbody>\n",
       "    <tr>\n",
       "      <th>count</th>\n",
       "      <td>5.000000</td>\n",
       "      <td>5.000000</td>\n",
       "      <td>5.000000</td>\n",
       "      <td>5.000000</td>\n",
       "    </tr>\n",
       "    <tr>\n",
       "      <th>mean</th>\n",
       "      <td>0.140391</td>\n",
       "      <td>-0.212708</td>\n",
       "      <td>-0.265734</td>\n",
       "      <td>0.196225</td>\n",
       "    </tr>\n",
       "    <tr>\n",
       "      <th>std</th>\n",
       "      <td>1.673158</td>\n",
       "      <td>0.624510</td>\n",
       "      <td>1.198465</td>\n",
       "      <td>0.792429</td>\n",
       "    </tr>\n",
       "    <tr>\n",
       "      <th>min</th>\n",
       "      <td>-1.781879</td>\n",
       "      <td>-0.893744</td>\n",
       "      <td>-1.879690</td>\n",
       "      <td>-0.519029</td>\n",
       "    </tr>\n",
       "    <tr>\n",
       "      <th>25%</th>\n",
       "      <td>-0.819027</td>\n",
       "      <td>-0.864827</td>\n",
       "      <td>-0.727686</td>\n",
       "      <td>-0.433327</td>\n",
       "    </tr>\n",
       "    <tr>\n",
       "      <th>50%</th>\n",
       "      <td>-0.449320</td>\n",
       "      <td>0.025656</td>\n",
       "      <td>-0.570588</td>\n",
       "      <td>-0.051706</td>\n",
       "    </tr>\n",
       "    <tr>\n",
       "      <th>75%</th>\n",
       "      <td>1.552701</td>\n",
       "      <td>0.248430</td>\n",
       "      <td>0.918687</td>\n",
       "      <td>0.622472</td>\n",
       "    </tr>\n",
       "    <tr>\n",
       "      <th>max</th>\n",
       "      <td>2.199479</td>\n",
       "      <td>0.420943</td>\n",
       "      <td>0.930608</td>\n",
       "      <td>1.362714</td>\n",
       "    </tr>\n",
       "  </tbody>\n",
       "</table>\n",
       "</div>"
      ],
      "text/plain": [
       "              W         X         Y         Z\n",
       "count  5.000000  5.000000  5.000000  5.000000\n",
       "mean   0.140391 -0.212708 -0.265734  0.196225\n",
       "std    1.673158  0.624510  1.198465  0.792429\n",
       "min   -1.781879 -0.893744 -1.879690 -0.519029\n",
       "25%   -0.819027 -0.864827 -0.727686 -0.433327\n",
       "50%   -0.449320  0.025656 -0.570588 -0.051706\n",
       "75%    1.552701  0.248430  0.918687  0.622472\n",
       "max    2.199479  0.420943  0.930608  1.362714"
      ]
     },
     "execution_count": 7,
     "metadata": {},
     "output_type": "execute_result"
    }
   ],
   "source": [
    "df.describe()"
   ]
  },
  {
   "cell_type": "code",
   "execution_count": 26,
   "id": "d77a3db4",
   "metadata": {},
   "outputs": [],
   "source": [
    "df[\"Σ\"] = df[\"W\"] + df[\"X\"] + df[\"Y\"] + df[\"Z\"]"
   ]
  },
  {
   "cell_type": "code",
   "execution_count": 27,
   "id": "d27b555c",
   "metadata": {},
   "outputs": [
    {
     "data": {
      "application/vnd.microsoft.datawrangler.viewer.v0+json": {
       "columns": [
        {
         "name": "index",
         "rawType": "object",
         "type": "string"
        },
        {
         "name": "W",
         "rawType": "float64",
         "type": "float"
        },
        {
         "name": "X",
         "rawType": "float64",
         "type": "float"
        },
        {
         "name": "Y",
         "rawType": "float64",
         "type": "float"
        },
        {
         "name": "Z",
         "rawType": "float64",
         "type": "float"
        },
        {
         "name": "Σ",
         "rawType": "float64",
         "type": "float"
        }
       ],
       "ref": "0f255001-fce5-4d65-aa78-8c714f148f8f",
       "rows": [
        [
         "A",
         "0.31785200798546076",
         "-1.190674360816956",
         "-0.4139455288558861",
         "0.6204262300306582",
         "-0.6663416516567233"
        ],
        [
         "B",
         "-1.414472736154667",
         "-0.5019753735779913",
         "-0.7838585407309442",
         "0.4996637038939245",
         "-2.200642946569678"
        ],
        [
         "C",
         "2.004588014676621",
         "-0.14642387251225752",
         "-1.68637634849835",
         "1.151619348334747",
         "1.3234071420007603"
        ],
        [
         "D",
         "0.6940592939345005",
         "-0.5099036285655105",
         "-0.7740153756048546",
         "0.5886072915105641",
         "-0.0012524187253004637"
        ],
        [
         "E",
         "-0.08073111537208043",
         "-0.7060950435821042",
         "-0.025338853794806687",
         "-0.44909731812999687",
         "-1.261262330878988"
        ]
       ],
       "shape": {
        "columns": 5,
        "rows": 5
       }
      },
      "text/html": [
       "<div>\n",
       "<style scoped>\n",
       "    .dataframe tbody tr th:only-of-type {\n",
       "        vertical-align: middle;\n",
       "    }\n",
       "\n",
       "    .dataframe tbody tr th {\n",
       "        vertical-align: top;\n",
       "    }\n",
       "\n",
       "    .dataframe thead th {\n",
       "        text-align: right;\n",
       "    }\n",
       "</style>\n",
       "<table border=\"1\" class=\"dataframe\">\n",
       "  <thead>\n",
       "    <tr style=\"text-align: right;\">\n",
       "      <th></th>\n",
       "      <th>W</th>\n",
       "      <th>X</th>\n",
       "      <th>Y</th>\n",
       "      <th>Z</th>\n",
       "      <th>Σ</th>\n",
       "    </tr>\n",
       "  </thead>\n",
       "  <tbody>\n",
       "    <tr>\n",
       "      <th>A</th>\n",
       "      <td>0.317852</td>\n",
       "      <td>-1.190674</td>\n",
       "      <td>-0.413946</td>\n",
       "      <td>0.620426</td>\n",
       "      <td>-0.666342</td>\n",
       "    </tr>\n",
       "    <tr>\n",
       "      <th>B</th>\n",
       "      <td>-1.414473</td>\n",
       "      <td>-0.501975</td>\n",
       "      <td>-0.783859</td>\n",
       "      <td>0.499664</td>\n",
       "      <td>-2.200643</td>\n",
       "    </tr>\n",
       "    <tr>\n",
       "      <th>C</th>\n",
       "      <td>2.004588</td>\n",
       "      <td>-0.146424</td>\n",
       "      <td>-1.686376</td>\n",
       "      <td>1.151619</td>\n",
       "      <td>1.323407</td>\n",
       "    </tr>\n",
       "    <tr>\n",
       "      <th>D</th>\n",
       "      <td>0.694059</td>\n",
       "      <td>-0.509904</td>\n",
       "      <td>-0.774015</td>\n",
       "      <td>0.588607</td>\n",
       "      <td>-0.001252</td>\n",
       "    </tr>\n",
       "    <tr>\n",
       "      <th>E</th>\n",
       "      <td>-0.080731</td>\n",
       "      <td>-0.706095</td>\n",
       "      <td>-0.025339</td>\n",
       "      <td>-0.449097</td>\n",
       "      <td>-1.261262</td>\n",
       "    </tr>\n",
       "  </tbody>\n",
       "</table>\n",
       "</div>"
      ],
      "text/plain": [
       "          W         X         Y         Z         Σ\n",
       "A  0.317852 -1.190674 -0.413946  0.620426 -0.666342\n",
       "B -1.414473 -0.501975 -0.783859  0.499664 -2.200643\n",
       "C  2.004588 -0.146424 -1.686376  1.151619  1.323407\n",
       "D  0.694059 -0.509904 -0.774015  0.588607 -0.001252\n",
       "E -0.080731 -0.706095 -0.025339 -0.449097 -1.261262"
      ]
     },
     "execution_count": 27,
     "metadata": {},
     "output_type": "execute_result"
    }
   ],
   "source": [
    "df.head()"
   ]
  },
  {
   "cell_type": "markdown",
   "id": "3227f113",
   "metadata": {},
   "source": [
    "##### **Methods**\n"
   ]
  },
  {
   "cell_type": "code",
   "execution_count": 30,
   "id": "8c923ffc",
   "metadata": {},
   "outputs": [],
   "source": [
    "df.drop(\"Σ\", axis=1, inplace=True)"
   ]
  },
  {
   "cell_type": "code",
   "execution_count": 31,
   "id": "2608efb5",
   "metadata": {},
   "outputs": [
    {
     "data": {
      "application/vnd.microsoft.datawrangler.viewer.v0+json": {
       "columns": [
        {
         "name": "index",
         "rawType": "object",
         "type": "string"
        },
        {
         "name": "W",
         "rawType": "float64",
         "type": "float"
        },
        {
         "name": "X",
         "rawType": "float64",
         "type": "float"
        },
        {
         "name": "Y",
         "rawType": "float64",
         "type": "float"
        },
        {
         "name": "Z",
         "rawType": "float64",
         "type": "float"
        }
       ],
       "ref": "e85ff98e-021a-42cc-a2e1-b03a95a48d92",
       "rows": [
        [
         "A",
         "0.31785200798546076",
         "-1.190674360816956",
         "-0.4139455288558861",
         "0.6204262300306582"
        ],
        [
         "B",
         "-1.414472736154667",
         "-0.5019753735779913",
         "-0.7838585407309442",
         "0.4996637038939245"
        ],
        [
         "C",
         "2.004588014676621",
         "-0.14642387251225752",
         "-1.68637634849835",
         "1.151619348334747"
        ],
        [
         "D",
         "0.6940592939345005",
         "-0.5099036285655105",
         "-0.7740153756048546",
         "0.5886072915105641"
        ],
        [
         "E",
         "-0.08073111537208043",
         "-0.7060950435821042",
         "-0.025338853794806687",
         "-0.44909731812999687"
        ]
       ],
       "shape": {
        "columns": 4,
        "rows": 5
       }
      },
      "text/html": [
       "<div>\n",
       "<style scoped>\n",
       "    .dataframe tbody tr th:only-of-type {\n",
       "        vertical-align: middle;\n",
       "    }\n",
       "\n",
       "    .dataframe tbody tr th {\n",
       "        vertical-align: top;\n",
       "    }\n",
       "\n",
       "    .dataframe thead th {\n",
       "        text-align: right;\n",
       "    }\n",
       "</style>\n",
       "<table border=\"1\" class=\"dataframe\">\n",
       "  <thead>\n",
       "    <tr style=\"text-align: right;\">\n",
       "      <th></th>\n",
       "      <th>W</th>\n",
       "      <th>X</th>\n",
       "      <th>Y</th>\n",
       "      <th>Z</th>\n",
       "    </tr>\n",
       "  </thead>\n",
       "  <tbody>\n",
       "    <tr>\n",
       "      <th>A</th>\n",
       "      <td>0.317852</td>\n",
       "      <td>-1.190674</td>\n",
       "      <td>-0.413946</td>\n",
       "      <td>0.620426</td>\n",
       "    </tr>\n",
       "    <tr>\n",
       "      <th>B</th>\n",
       "      <td>-1.414473</td>\n",
       "      <td>-0.501975</td>\n",
       "      <td>-0.783859</td>\n",
       "      <td>0.499664</td>\n",
       "    </tr>\n",
       "    <tr>\n",
       "      <th>C</th>\n",
       "      <td>2.004588</td>\n",
       "      <td>-0.146424</td>\n",
       "      <td>-1.686376</td>\n",
       "      <td>1.151619</td>\n",
       "    </tr>\n",
       "    <tr>\n",
       "      <th>D</th>\n",
       "      <td>0.694059</td>\n",
       "      <td>-0.509904</td>\n",
       "      <td>-0.774015</td>\n",
       "      <td>0.588607</td>\n",
       "    </tr>\n",
       "    <tr>\n",
       "      <th>E</th>\n",
       "      <td>-0.080731</td>\n",
       "      <td>-0.706095</td>\n",
       "      <td>-0.025339</td>\n",
       "      <td>-0.449097</td>\n",
       "    </tr>\n",
       "  </tbody>\n",
       "</table>\n",
       "</div>"
      ],
      "text/plain": [
       "          W         X         Y         Z\n",
       "A  0.317852 -1.190674 -0.413946  0.620426\n",
       "B -1.414473 -0.501975 -0.783859  0.499664\n",
       "C  2.004588 -0.146424 -1.686376  1.151619\n",
       "D  0.694059 -0.509904 -0.774015  0.588607\n",
       "E -0.080731 -0.706095 -0.025339 -0.449097"
      ]
     },
     "execution_count": 31,
     "metadata": {},
     "output_type": "execute_result"
    }
   ],
   "source": [
    "df.head()"
   ]
  },
  {
   "cell_type": "code",
   "execution_count": null,
   "id": "7dc6b50c",
   "metadata": {},
   "outputs": [],
   "source": []
  }
 ],
 "metadata": {
  "kernelspec": {
   "display_name": ".venv",
   "language": "python",
   "name": "python3"
  },
  "language_info": {
   "codemirror_mode": {
    "name": "ipython",
    "version": 3
   },
   "file_extension": ".py",
   "mimetype": "text/x-python",
   "name": "python",
   "nbconvert_exporter": "python",
   "pygments_lexer": "ipython3",
   "version": "3.13.7"
  }
 },
 "nbformat": 4,
 "nbformat_minor": 5
}
