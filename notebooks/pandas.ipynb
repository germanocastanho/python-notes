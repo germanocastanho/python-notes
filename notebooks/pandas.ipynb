{
 "cells": [
  {
   "cell_type": "markdown",
   "id": "f38767c3",
   "metadata": {},
   "source": [
    "# **Pandas**\n"
   ]
  },
  {
   "cell_type": "code",
   "execution_count": 1,
   "id": "0b8f0259",
   "metadata": {},
   "outputs": [],
   "source": [
    "import pandas as pd\n",
    "import numpy as np"
   ]
  },
  {
   "cell_type": "code",
   "execution_count": 8,
   "id": "f2ab4585",
   "metadata": {},
   "outputs": [],
   "source": [
    "df = pd.read_csv(\"../data/data.csv\", index_col=False)"
   ]
  },
  {
   "cell_type": "markdown",
   "id": "bcd8e907",
   "metadata": {},
   "source": [
    "### **Series**\n"
   ]
  },
  {
   "cell_type": "code",
   "execution_count": 11,
   "id": "412b30bd",
   "metadata": {},
   "outputs": [],
   "source": [
    "list_ = [\"apple\", \"banana\", \"cherry\"]\n",
    "dict_ = {\"Alice\": 25, \"Bob\": 30, \"Charlie\": 35}\n",
    "arr_ = np.array([10, 20, 30, 40, 50])\n"
   ]
  },
  {
   "cell_type": "code",
   "execution_count": 12,
   "id": "5418cb40",
   "metadata": {},
   "outputs": [
    {
     "data": {
      "application/vnd.microsoft.datawrangler.viewer.v0+json": {
       "columns": [
        {
         "name": "index",
         "rawType": "int64",
         "type": "integer"
        },
        {
         "name": "0",
         "rawType": "object",
         "type": "string"
        }
       ],
       "ref": "ff275958-1ae6-4cce-9927-89f411c669c6",
       "rows": [
        [
         "0",
         "apple"
        ],
        [
         "1",
         "banana"
        ],
        [
         "2",
         "cherry"
        ]
       ],
       "shape": {
        "columns": 1,
        "rows": 3
       }
      },
      "text/plain": [
       "0     apple\n",
       "1    banana\n",
       "2    cherry\n",
       "dtype: object"
      ]
     },
     "execution_count": 12,
     "metadata": {},
     "output_type": "execute_result"
    }
   ],
   "source": [
    "pd.Series(list_)"
   ]
  },
  {
   "cell_type": "code",
   "execution_count": 13,
   "id": "59e79c5b",
   "metadata": {},
   "outputs": [
    {
     "data": {
      "application/vnd.microsoft.datawrangler.viewer.v0+json": {
       "columns": [
        {
         "name": "index",
         "rawType": "object",
         "type": "string"
        },
        {
         "name": "0",
         "rawType": "int64",
         "type": "integer"
        }
       ],
       "ref": "feb58e6a-b621-44de-9f7a-fa3cb54757d1",
       "rows": [
        [
         "Alice",
         "25"
        ],
        [
         "Bob",
         "30"
        ],
        [
         "Charlie",
         "35"
        ]
       ],
       "shape": {
        "columns": 1,
        "rows": 3
       }
      },
      "text/plain": [
       "Alice      25\n",
       "Bob        30\n",
       "Charlie    35\n",
       "dtype: int64"
      ]
     },
     "execution_count": 13,
     "metadata": {},
     "output_type": "execute_result"
    }
   ],
   "source": [
    "pd.Series(dict_)"
   ]
  },
  {
   "cell_type": "code",
   "execution_count": 14,
   "id": "23827e43",
   "metadata": {},
   "outputs": [
    {
     "data": {
      "application/vnd.microsoft.datawrangler.viewer.v0+json": {
       "columns": [
        {
         "name": "index",
         "rawType": "int64",
         "type": "integer"
        },
        {
         "name": "0",
         "rawType": "int64",
         "type": "integer"
        }
       ],
       "ref": "58f1c7e9-5956-46ae-b1f6-45cc62d07df9",
       "rows": [
        [
         "0",
         "10"
        ],
        [
         "1",
         "20"
        ],
        [
         "2",
         "30"
        ],
        [
         "3",
         "40"
        ],
        [
         "4",
         "50"
        ]
       ],
       "shape": {
        "columns": 1,
        "rows": 5
       }
      },
      "text/plain": [
       "0    10\n",
       "1    20\n",
       "2    30\n",
       "3    40\n",
       "4    50\n",
       "dtype: int64"
      ]
     },
     "execution_count": 14,
     "metadata": {},
     "output_type": "execute_result"
    }
   ],
   "source": [
    "pd.Series(arr_)"
   ]
  },
  {
   "cell_type": "markdown",
   "id": "413464bb",
   "metadata": {},
   "source": [
    "### **DataFrames**\n"
   ]
  },
  {
   "cell_type": "code",
   "execution_count": null,
   "id": "c2ae6ca5",
   "metadata": {},
   "outputs": [],
   "source": []
  }
 ],
 "metadata": {
  "kernelspec": {
   "display_name": ".venv",
   "language": "python",
   "name": "python3"
  },
  "language_info": {
   "codemirror_mode": {
    "name": "ipython",
    "version": 3
   },
   "file_extension": ".py",
   "mimetype": "text/x-python",
   "name": "python",
   "nbconvert_exporter": "python",
   "pygments_lexer": "ipython3",
   "version": "3.13.7"
  }
 },
 "nbformat": 4,
 "nbformat_minor": 5
}
