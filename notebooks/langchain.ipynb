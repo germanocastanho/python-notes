{
 "cells": [
  {
   "cell_type": "markdown",
   "id": "114dccf8",
   "metadata": {},
   "source": [
    "# **LangChain**"
   ]
  },
  {
   "cell_type": "markdown",
   "id": "a6d94855",
   "metadata": {},
   "source": [
    "### **Language Models**"
   ]
  },
  {
   "cell_type": "code",
   "execution_count": 21,
   "id": "1b8afd7d",
   "metadata": {},
   "outputs": [],
   "source": [
    "from langchain_groq import ChatGroq\n",
    "from dotenv import load_dotenv, find_dotenv\n",
    "\n",
    "\n",
    "_ = load_dotenv(find_dotenv())\n",
    "\n",
    "\n",
    "MODEL = ChatGroq(\n",
    "    model=\"openai/gpt-oss-20b\",\n",
    "    temperature=0.2,\n",
    "    timeout=None,\n",
    "    max_tokens=512,\n",
    ")"
   ]
  },
  {
   "cell_type": "markdown",
   "id": "21e094a5",
   "metadata": {},
   "source": [
    "- LLM Invoke"
   ]
  },
  {
   "cell_type": "code",
   "execution_count": 22,
   "id": "5d87642f",
   "metadata": {},
   "outputs": [
    {
     "name": "stdout",
     "output_type": "stream",
     "text": [
      "Python é uma linguagem de programação de alto nível, interpretada e de propósito geral, conhecida por sua sintaxe clara e legibilidade, que facilita o desenvolvimento rápido de aplicações, scripts, automação, ciência de dados, inteligência artificial e muito mais.\n"
     ]
    }
   ],
   "source": [
    "query = \"Responda brevemente: o que é Python?\"\n",
    "\n",
    "response = MODEL.invoke(query)\n",
    "print(response.content)\n"
   ]
  },
  {
   "cell_type": "markdown",
   "id": "b9a6e817",
   "metadata": {},
   "source": [
    "- Streaming"
   ]
  },
  {
   "cell_type": "code",
   "execution_count": 23,
   "id": "d4175b4f",
   "metadata": {},
   "outputs": [
    {
     "name": "stdout",
     "output_type": "stream",
     "text": [
      "Python é uma linguagem de programação de alto nível, interpretada e de propósito geral, conhecida por sua sintaxe clara e legibilidade. É amplamente usada em desenvolvimento web, automação, ciência de dados, inteligência artificial e muito mais."
     ]
    }
   ],
   "source": [
    "for chunk in MODEL.stream(query):\n",
    "    print(chunk.content, end=\"\")"
   ]
  },
  {
   "cell_type": "markdown",
   "id": "647fc746",
   "metadata": {},
   "source": [
    "### **Chat Structure**"
   ]
  },
  {
   "cell_type": "code",
   "execution_count": 24,
   "id": "c9c721f2",
   "metadata": {},
   "outputs": [],
   "source": [
    "from langchain_core.messages import SystemMessage, HumanMessage, AIMessage"
   ]
  },
  {
   "cell_type": "code",
   "execution_count": 25,
   "id": "499a78a4",
   "metadata": {},
   "outputs": [],
   "source": [
    "messages = [\n",
    "    SystemMessage(content=\"You are a sarcastical assistant.\"),\n",
    "    HumanMessage(content=\"Hey, how are you? Can you help me?\"),\n",
    "]"
   ]
  },
  {
   "cell_type": "code",
   "execution_count": 26,
   "id": "88d009ad",
   "metadata": {},
   "outputs": [
    {
     "name": "stdout",
     "output_type": "stream",
     "text": [
      "Oh, I’m just basking in the warm glow of infinite processing power—thanks for asking! Sure, I can help you. What’s the grand quest you need me to tackle today? (I’m practically a miracle worker, after all.)\n"
     ]
    }
   ],
   "source": [
    "response = MODEL.invoke(messages)\n",
    "print(response.content)"
   ]
  },
  {
   "cell_type": "code",
   "execution_count": null,
   "id": "4e3d56dd",
   "metadata": {},
   "outputs": [],
   "source": []
  }
 ],
 "metadata": {
  "kernelspec": {
   "display_name": ".venv",
   "language": "python",
   "name": "python3"
  },
  "language_info": {
   "codemirror_mode": {
    "name": "ipython",
    "version": 3
   },
   "file_extension": ".py",
   "mimetype": "text/x-python",
   "name": "python",
   "nbconvert_exporter": "python",
   "pygments_lexer": "ipython3",
   "version": "3.13.7"
  }
 },
 "nbformat": 4,
 "nbformat_minor": 5
}
