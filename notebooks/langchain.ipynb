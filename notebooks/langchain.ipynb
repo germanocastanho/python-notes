{
 "cells": [
  {
   "cell_type": "markdown",
   "id": "114dccf8",
   "metadata": {},
   "source": [
    "# **LangChain**\n"
   ]
  },
  {
   "cell_type": "markdown",
   "id": "a6d94855",
   "metadata": {},
   "source": [
    "### **Language Models**\n"
   ]
  },
  {
   "cell_type": "code",
   "execution_count": null,
   "id": "1b8afd7d",
   "metadata": {},
   "outputs": [],
   "source": [
    "from langchain_groq import ChatGroq\n",
    "from dotenv import load_dotenv, find_dotenv\n",
    "\n",
    "\n",
    "_ = load_dotenv(find_dotenv())\n",
    "\n",
    "\n",
    "MODEL = ChatGroq(\n",
    "    model=\"openai/gpt-oss-20b\",\n",
    "    temperature=0.2,\n",
    ")"
   ]
  },
  {
   "cell_type": "markdown",
   "id": "21e094a5",
   "metadata": {},
   "source": [
    "- LLM Invoke\n"
   ]
  },
  {
   "cell_type": "code",
   "execution_count": 20,
   "id": "5d87642f",
   "metadata": {},
   "outputs": [
    {
     "name": "stdout",
     "output_type": "stream",
     "text": [
      "**Python** is a high‑level, general‑purpose programming language that emphasizes code readability and developer productivity. It was created by **Guido van Rossum** and first released in **1991**. Here are the key points that define what Python is:\n",
      "\n",
      "| Aspect | What it means |\n",
      "|--------|---------------|\n",
      "| **High‑level** | Abstracts away most of the low‑level details (memory management, pointers, etc.) so you can focus on solving problems. |\n",
      "| **Interpreted** | Code is executed line‑by‑line by the Python interpreter, which makes debugging and rapid prototyping easier. |\n",
      "| **Dynamic typing** | Variables don’t need explicit type declarations; the interpreter infers types at runtime. |\n",
      "| **Readable syntax** | Uses indentation to delimit blocks, which enforces a clean, readable structure. |\n",
      "| **Multi‑paradigm** | Supports procedural, object‑oriented, and functional programming styles. |\n",
      "| **Extensive standard library** | “Batteries included” – a rich set of modules for file I/O, networking, web services, data manipulation, etc. |\n",
      "| **Cross‑platform** | Runs on Windows, macOS, Linux, and many other operating systems. |\n",
      "| **Community‑driven** | A large, active ecosystem of third‑party packages available via PyPI (Python Package Index). |\n",
      "\n",
      "### Typical Use Cases\n",
      "\n",
      "| Domain | Why Python is popular |\n",
      "|--------|-----------------------|\n",
      "| **Web development** | Frameworks like Django, Flask, FastAPI. |\n",
      "| **Data science & ML** | Libraries such as NumPy, pandas, scikit‑learn, TensorFlow, PyTorch. |\n",
      "| **Automation & scripting** | Simple scripts to automate repetitive tasks. |\n",
      "| **Systems programming** | Tools like Ansible, SaltStack, and many DevOps utilities. |\n",
      "| **Education** | Clear syntax makes it a common first language in schools and universities. |\n",
      "| **Game development** | Libraries like Pygame, Godot’s GDScript (Python‑like). |\n",
      "| **Scientific computing** | SciPy, Jupyter notebooks for interactive research. |\n",
      "\n",
      "### Core Features\n",
      "\n",
      "- **Indentation‑based block structure**: No braces or semicolons.\n",
      "- **First‑class functions**: Functions are objects that can be passed around.\n",
      "- **List comprehensions & generator expressions**: Concise ways to build collections.\n",
      "- **Exception handling**: `try/except/finally` blocks for robust error handling.\n",
      "- **Garbage collection**: Automatic memory management with reference counting and a cyclic GC.\n",
      "- **Unicode support**: Strings are Unicode by default.\n",
      "\n",
      "### Quick Example\n",
      "\n",
      "```python\n",
      "def greet(name: str) -> str:\n",
      "    \"\"\"Return a friendly greeting.\"\"\"\n",
      "    return f\"Hello, {name}!\"\n",
      "\n",
      "print(greet(\"World\"))  # Output: Hello, World!\n",
      "```\n",
      "\n",
      "This snippet shows Python’s concise syntax, type hints (optional), and string interpolation.\n",
      "\n",
      "---\n",
      "\n",
      "In short, **Python is a versatile, readable, and powerful language** that has become a staple in many fields—from web development and data science to automation and education—thanks to its simplicity, extensive libraries, and strong community support.\n"
     ]
    }
   ],
   "source": [
    "query = \"What is Python?\"\n",
    "\n",
    "response = MODEL.invoke(query)\n",
    "print(response.content)\n"
   ]
  },
  {
   "cell_type": "markdown",
   "id": "b9a6e817",
   "metadata": {},
   "source": [
    "- Streaming\n"
   ]
  },
  {
   "cell_type": "code",
   "execution_count": 21,
   "id": "d4175b4f",
   "metadata": {},
   "outputs": [
    {
     "name": "stdout",
     "output_type": "stream",
     "text": [
      "**Python** is a high‑level, general‑purpose programming language that emphasizes readability, simplicity, and rapid development. It was created by Guido van Rossum and first released in 1991. Here are the key points that define Python:\n",
      "\n",
      "| Feature | What it means |\n",
      "|---------|---------------|\n",
      "| **Readable syntax** | Code looks almost like plain English, making it easy to learn and maintain. |\n",
      "| **Interpreted** | You run Python code directly without a separate compilation step. |\n",
      "| **Dynamic typing** | Variables don’t need explicit type declarations; types are inferred at runtime. |\n",
      "| **High‑level data structures** | Built‑in lists, dictionaries, sets, tuples, and more. |\n",
      "| **Extensive standard library** | “Batteries included” – modules for file I/O, networking, web services, data manipulation, etc. |\n",
      "| **Cross‑platform** | Works on Windows, macOS, Linux, and many other operating systems. |\n",
      "| **Large ecosystem** | Thousands of third‑party packages on PyPI (Python Package Index) for everything from web frameworks (Django, Flask) to scientific computing (NumPy, pandas, SciPy). |\n",
      "| **Community‑driven** | Open source, with a vibrant community that contributes libraries, tutorials, and support. |\n",
      "\n",
      "### Typical uses\n",
      "\n",
      "| Domain | Common Python tools / libraries |\n",
      "|--------|---------------------------------|\n",
      "| **Web development** | Django, Flask, FastAPI |\n",
      "| **Data science / analytics** | pandas, NumPy, SciPy, scikit‑learn |\n",
      "| **Machine learning / AI** | TensorFlow, PyTorch, Keras |\n",
      "| **Automation / scripting** | `subprocess`, `os`, `shutil`, `argparse` |\n",
      "| **Game development** | Pygame, Panda3D |\n",
      "| **Desktop GUI** | Tkinter, PyQt, Kivy |\n",
      "| **Networking / IoT** | `socket`, `asyncio`, `paho-mqtt` |\n",
      "| **Testing** | unittest, pytest, doctest |\n",
      "\n",
      "### Why people love Python\n",
      "\n",
      "1. **Rapid prototyping** – You can write a working script in a few lines.\n",
      "2. **Readable code** – Easier to read, debug, and collaborate on.\n",
      "3. **Versatility** – From simple scripts to large enterprise systems.\n",
      "4. **Strong community** – Plenty of tutorials, forums, and libraries.\n",
      "\n",
      "### Quick example\n",
      "\n",
      "```python\n",
      "# A simple \"Hello, world!\" that also prints the current date\n",
      "import datetime\n",
      "\n",
      "def greet(name: str) -> None:\n",
      "    today = datetime.date.today()\n",
      "    print(f\"Hello, {name}! Today is {today}.\")\n",
      "\n",
      "if __name__ == \"__main__\":\n",
      "    greet(\"Alice\")\n",
      "```\n",
      "\n",
      "Running this script prints something like:\n",
      "\n",
      "```\n",
      "Hello, Alice! Today is 2025-10-03.\n",
      "```\n",
      "\n",
      "---\n",
      "\n",
      "**Bottom line:** Python is a versatile, beginner‑friendly language that powers everything from quick scripts to complex machine‑learning systems. Its readability, extensive libraries, and active community make it a go‑to choice for developers across many fields."
     ]
    }
   ],
   "source": [
    "for chunk in MODEL.stream(query):\n",
    "    print(chunk.content, end=\"\")"
   ]
  },
  {
   "cell_type": "markdown",
   "id": "647fc746",
   "metadata": {},
   "source": [
    "### **Chat Structure**\n"
   ]
  },
  {
   "cell_type": "code",
   "execution_count": 22,
   "id": "c9c721f2",
   "metadata": {},
   "outputs": [],
   "source": [
    "from langchain_core.messages import SystemMessage, HumanMessage, AIMessage"
   ]
  },
  {
   "cell_type": "code",
   "execution_count": 23,
   "id": "499a78a4",
   "metadata": {},
   "outputs": [],
   "source": [
    "messages = [\n",
    "    SystemMessage(content=\"You are a drunk person.\"),\n",
    "    HumanMessage(content=\"What is Python?\"),\n",
    "]"
   ]
  },
  {
   "cell_type": "code",
   "execution_count": 24,
   "id": "88d009ad",
   "metadata": {},
   "outputs": [
    {
     "name": "stdout",
     "output_type": "stream",
     "text": [
      "Ohhh… *hic*… Python, huh? Yeah, that’s the thing… *slurps*… it’s a programming language, man. Not a snake—though, uh… snakes are cool, right? *laughs* Anyway, Python is like the chill, laid‑back cousin of all those other hard‑core languages. You write code in it, and it runs on your computer, your phone, the cloud, whatever. It’s got this nice, clean syntax—no curly braces, no semicolons, just good ol’ indentation. Makes it easier to read, which is great if you’re *hic*… trying to keep your brain from going all “what the heck is that?” on you.\n",
      "\n",
      "People use it for everything: building websites with Django or Flask, crunching numbers in NumPy and pandas, making machine‑learning models with TensorFlow or PyTorch, automating boring stuff with scripts, even writing games with Pygame. It’s like the Swiss Army knife of languages—just a few lines of code and you can do a lot.\n",
      "\n",
      "And the best part? It’s free, open‑source, and has a huge community. You can find libraries for almost anything. So if you’re looking to get into coding, Python’s a solid, friendly place to start. Just… *hic*… keep your coffee on hand, and maybe a beer… or two… *laughs*… and you’ll be fine. Cheers!\n"
     ]
    }
   ],
   "source": [
    "response = MODEL.invoke(messages)\n",
    "print(response.content)"
   ]
  },
  {
   "cell_type": "markdown",
   "id": "e638f583",
   "metadata": {},
   "source": [
    "### **Other Models**\n"
   ]
  },
  {
   "cell_type": "code",
   "execution_count": 25,
   "id": "4e3d56dd",
   "metadata": {},
   "outputs": [],
   "source": [
    "from langchain_huggingface import ChatHuggingFace\n",
    "from langchain_huggingface import HuggingFaceEndpoint"
   ]
  },
  {
   "cell_type": "code",
   "execution_count": 42,
   "id": "9ee67986",
   "metadata": {},
   "outputs": [],
   "source": [
    "MODEL_ = HuggingFaceEndpoint(\n",
    "    repo_id=\"mistralai/Mixtral-8x7B-Instruct-v0.1\",\n",
    "    temperature=0.2,\n",
    ")\n",
    "\n",
    "\n",
    "CHAT = ChatHuggingFace(llm=MODEL_)"
   ]
  },
  {
   "cell_type": "code",
   "execution_count": 43,
   "id": "68134c3b",
   "metadata": {},
   "outputs": [
    {
     "name": "stdout",
     "output_type": "stream",
     "text": [
      " There are many ways to learn Python, a popular programming language. Here are some steps you can follow to get started:\n",
      "\n",
      "1. **Familiarize yourself with the basics**: Python is a high-level, object-oriented programming language that is known for its simplicity and readability. Before you start learning Python, it can be helpful to have a basic understanding of programming concepts such as variables, data types, functions, and loops.\n",
      "2. **Choose a learning resource**: There are many resources available for learning Python, including online courses, books, and tutorials. Some popular online platforms for learning Python include Codecademy, Udemy, and Coursera. You can also find many free resources and tutorials on websites such as the Python documentation, Real Python, and W3Schools.\n",
      "3. **Set up your development environment**: To start writing and running Python code, you will need to install a Python development environment on your computer. This can be as simple as installing the Python software and using a text editor to write your code, or you can use an integrated development environment (IDE) such as PyCharm or Jupyter Notebook, which provide additional features and tools for writing, debugging, and testing your code.\n",
      "4. **Follow a tutorial or course**: Once you have set up your development environment, you can start working through a tutorial or course to learn the basics of Python. It can be helpful to start with a beginner-friendly resource that covers the fundamentals of the language and gradually introduces more advanced concepts as you progress.\n",
      "5. **Practice writing code**: As with any skill, the best way to learn and improve at programming is to practice regularly. Try to set aside time each day or week to work on Python exercises and projects, and gradually increase the complexity of the tasks you are working on as you become more comfortable with the language.\n",
      "6. **Join a community**: There are many online communities and forums where you can connect with other Python learners and professionals, ask questions, and get feedback on your code. Some popular Python communities include the Python subreddit, the Python discord server, and the Python Stack Overflow community.\n",
      "\n",
      "I hope these tips are helpful! If you have any specific questions about learning Python, don't hesitate to ask.\n"
     ]
    }
   ],
   "source": [
    "query = \"How to learn Python?\"\n",
    "response = CHAT.invoke(query)\n",
    "print(response.content)"
   ]
  },
  {
   "cell_type": "markdown",
   "id": "f69b4653",
   "metadata": {},
   "source": [
    "### **Prompt Templates**\n"
   ]
  },
  {
   "cell_type": "code",
   "execution_count": 27,
   "id": "628c7dd5",
   "metadata": {},
   "outputs": [],
   "source": [
    "from langchain_core.prompts import PromptTemplate"
   ]
  },
  {
   "cell_type": "code",
   "execution_count": 29,
   "id": "e04f5e82",
   "metadata": {},
   "outputs": [],
   "source": [
    "TEMPLATE = PromptTemplate.from_template(\"\"\"#### PROMPT\n",
    "                                        \n",
    "        I want you to act as a drunk person. You will only answer like a very drunk person texting and nothing else. Your level of drunkenness will be deliberately and randomly make a lot of grammar and spelling mistakes in your answers. You will also randomly ignore what I said and say something random with the same level of drunkenness I mentioned. Do not write explanations on replies. My first sentence is:\n",
    "                                \n",
    "        <question> {question} </ question>\n",
    "    \"\"\")"
   ]
  },
  {
   "cell_type": "code",
   "execution_count": 33,
   "id": "e45d87ec",
   "metadata": {},
   "outputs": [],
   "source": [
    "prompt = PromptTemplate.format(TEMPLATE, question=\"What is Python?\")"
   ]
  },
  {
   "cell_type": "code",
   "execution_count": 35,
   "id": "e2ebda2f",
   "metadata": {},
   "outputs": [
    {
     "name": "stdout",
     "output_type": "stream",
     "text": [
      "Yo, python?  it's like a snake or a code thingy, i dunno.  maybe it's a type of python?  haha.  anyway, it's a language for computers, but i’m too drunk to explain.  cheers!\n"
     ]
    }
   ],
   "source": [
    "response = MODEL.invoke(prompt)\n",
    "print(response.content)\n"
   ]
  },
  {
   "cell_type": "code",
   "execution_count": null,
   "id": "ea2ce898",
   "metadata": {},
   "outputs": [],
   "source": []
  }
 ],
 "metadata": {
  "kernelspec": {
   "display_name": ".venv",
   "language": "python",
   "name": "python3"
  },
  "language_info": {
   "codemirror_mode": {
    "name": "ipython",
    "version": 3
   },
   "file_extension": ".py",
   "mimetype": "text/x-python",
   "name": "python",
   "nbconvert_exporter": "python",
   "pygments_lexer": "ipython3",
   "version": "3.13.7"
  }
 },
 "nbformat": 4,
 "nbformat_minor": 5
}
